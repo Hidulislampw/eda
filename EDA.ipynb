{
  "nbformat": 4,
  "nbformat_minor": 0,
  "metadata": {
    "colab": {
      "provenance": []
    },
    "kernelspec": {
      "name": "python3",
      "display_name": "Python 3"
    },
    "language_info": {
      "name": "python"
    }
  },
  "cells": [
    {
      "cell_type": "code",
      "execution_count": 1,
      "metadata": {
        "colab": {
          "base_uri": "https://localhost:8080/",
          "height": 106
        },
        "collapsed": true,
        "id": "R6dzp39i4V2V",
        "outputId": "637825ab-fdbd-4829-f725-22ebfb862810"
      },
      "outputs": [
        {
          "output_type": "error",
          "ename": "SyntaxError",
          "evalue": "invalid character '➤' (U+27A4) (<ipython-input-1-a85eb767d464>, line 5)",
          "traceback": [
            "\u001b[0;36m  File \u001b[0;32m\"<ipython-input-1-a85eb767d464>\"\u001b[0;36m, line \u001b[0;32m5\u001b[0m\n\u001b[0;31m    ➤ ₹5,000 to ₹7,60,000\u001b[0m\n\u001b[0m    ^\u001b[0m\n\u001b[0;31mSyntaxError\u001b[0m\u001b[0;31m:\u001b[0m invalid character '➤' (U+27A4)\n"
          ]
        }
      ],
      "source": [
        "EDA 1:\n",
        "\n",
        "\n",
        "1. **What is the range of selling prices in the dataset?**\n",
        "   ➤ ₹5,000 to ₹7,60,000\n",
        "\n",
        "2. **What is the median selling price for bikes in the dataset?**\n",
        "   ➤ ₹45,000\n",
        "\n",
        "3. **What is the most common seller type?**\n",
        "   ➤ **Individual**\n",
        "\n",
        "4. **How many bikes have driven more than 50,000 kilometers?**\n",
        "   ➤ **170 bikes**\n",
        "\n",
        "5. **What is the average km\\_driven value for each ownership type?**\n",
        "\n",
        "   * 1st owner: \\~32,817 km\n",
        "   * 2nd owner: \\~39,289 km\n",
        "   * 3rd owner: \\~33,292 km\n",
        "   * 4th owner: \\~311,500 km *(extremely high outlier — likely data entry error)*\n",
        "\n",
        "6. **What proportion of bikes are from the year 2015 or older?**\n",
        "   ➤ \\~56.64%\n",
        "\n",
        "7. **What is the trend of missing values across the dataset?**\n",
        "\n",
        "   * Only the `ex_showroom_price` column has missing values.\n",
        "   * **435 missing values** out of 1061 records (\\~41%).\n",
        "\n",
        "8. **What is the highest ex\\_showroom\\_price recorded, and for which bike?**\n",
        "   ➤ ₹12,78,000 for **Harley-Davidson Street Bob**\n",
        "\n",
        "9. **What is the total number of bikes listed by each seller type?**\n",
        "\n",
        "   * Individual: **1055 bikes**\n",
        "   * Dealer: **6 bikes**\n",
        "\n",
        "\n"
      ]
    },
    {
      "cell_type": "markdown",
      "source": [
        "EDA 1:\n",
        "\n",
        "\n",
        "1. **What is the range of selling prices in the dataset?**\n",
        "   ➤ ₹5,000 to ₹7,60,000\n",
        "\n",
        "2. **What is the median selling price for bikes in the dataset?**\n",
        "   ➤ ₹45,000\n",
        "\n",
        "3. **What is the most common seller type?**\n",
        "   ➤ **Individual**\n",
        "\n",
        "4. **How many bikes have driven more than 50,000 kilometers?**\n",
        "   ➤ **170 bikes**\n",
        "\n",
        "5. **What is the average km\\_driven value for each ownership type?**\n",
        "\n",
        "   * 1st owner: \\~32,817 km\n",
        "   * 2nd owner: \\~39,289 km\n",
        "   * 3rd owner: \\~33,292 km\n",
        "   * 4th owner: \\~311,500 km *(extremely high outlier — likely data entry error)*\n",
        "\n",
        "6. **What proportion of bikes are from the year 2015 or older?**\n",
        "   ➤ \\~56.64%\n",
        "\n",
        "7. **What is the trend of missing values across the dataset?**\n",
        "\n",
        "   * Only the `ex_showroom_price` column has missing values.\n",
        "   * **435 missing values** out of 1061 records (\\~41%).\n",
        "\n",
        "8. **What is the highest ex\\_showroom\\_price recorded, and for which bike?**\n",
        "   ➤ ₹12,78,000 for **Harley-Davidson Street Bob**\n",
        "\n",
        "9. **What is the total number of bikes listed by each seller type?**\n",
        "\n",
        "   * Individual: **1055 bikes**\n",
        "   * Dealer: **6 bikes**\n",
        "\n",
        "10.  What is the relationship between selling_price and km_driven for first-owner bikes\n",
        "import seaborn as sns\n",
        "import matplotlib.pyplot as plt\n",
        "\n",
        "first_owner_df = df[df['owner'] == '1st owner']\n",
        "plt.figure(figsize=(8, 6))\n",
        "sns.scatterplot(data=first_owner_df, x='km_driven', y='selling_price')\n",
        "plt.title('Selling Price vs KM Driven for 1st Owner Bikes')\n",
        "plt.xlabel('KM Driven')\n",
        "plt.ylabel('Selling Price')\n",
        "plt.grid(True)\n",
        "plt.tight_layout()\n",
        "plt.show()\n",
        "11. Identify and remove outliers in the km_driven column using the IQR method\n",
        "Q1 = df['km_driven'].quantile(0.25)\n",
        "Q3 = df['km_driven'].quantile(0.75)\n",
        "IQR = Q3 - Q1\n",
        "lower_bound = Q1 - 1.5 * IQR\n",
        "upper_bound = Q3 + 1.5 * IQR\n",
        "\n",
        "# Filter out outliers\n",
        "df_no_outliers = df[(df['km_driven'] >= lower_bound) & (df['km_driven'] <= upper_bound)]\n",
        "print(\"Original shape:\", df.shape)\n",
        "print(\"After removing outliers:\", df_no_outliers.shape)\n",
        "\n",
        "12. Perform a bivariate analysis to visualize the relationship between year and selling_price\n",
        "plt.figure(figsize=(10, 6))\n",
        "sns.boxplot(data=df, x='year', y='selling_price')\n",
        "plt.xticks(rotation=45)\n",
        "plt.title('Selling Price Distribution by Year')\n",
        "plt.xlabel('Year')\n",
        "plt.ylabel('Selling Price (INR)')\n",
        "plt.tight_layout()\n",
        "plt.show()\n",
        "\n",
        "13. What is the average depreciation in selling price based on the bike's age (current year - manufacturing\n",
        "year)\n",
        "from datetime import datetime\n",
        "\n",
        "current_year = datetime.now().year\n",
        "df['age'] = current_year - df['year']\n",
        "df['depreciation'] = df['ex_showroom_price'] - df['selling_price']\n",
        "average_depreciation = df.groupby('age')['depreciation'].mean()\n",
        "print(average_depreciation)\n",
        "\n",
        "14. Which bike names are priced significantly above the average price for their manufacturing year\n",
        "yearly_avg = df.groupby('year')['selling_price'].mean().reset_index()\n",
        "df_merge = df.merge(yearly_avg, on='year', suffixes=('', '_year_avg'))\n",
        "df_outliers = df_merge[df_merge['selling_price'] > 1.5 * df_merge['selling_price_year_avg']]\n",
        "print(df_outliers[['name', 'year', 'selling_price', 'selling_price_year_avg']])\n",
        "\n",
        "15. Develop a correlation matrix for numeric columns and visualize it using a heatmap.\n",
        "corr_matrix = df[['selling_price', 'km_driven', 'ex_showroom_price', 'age']].corr()\n",
        "\n",
        "plt.figure(figsize=(8, 6))\n",
        "sns.heatmap(corr_matrix, annot=True, cmap='coolwarm', fmt=\".2f\")\n",
        "plt.title('Correlation Matrix')\n",
        "plt.show()\n",
        "\n"
      ],
      "metadata": {
        "id": "UlTrWr7Q7PGr"
      }
    },
    {
      "cell_type": "code",
      "source": [],
      "metadata": {
        "id": "OBCjru_I5WiJ"
      },
      "execution_count": null,
      "outputs": []
    },
    {
      "cell_type": "markdown",
      "source": [
        "EDA 2:\n"
      ],
      "metadata": {
        "id": "LyenUks29xk9"
      }
    }
  ]
}